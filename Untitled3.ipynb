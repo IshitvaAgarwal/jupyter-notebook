{
 "cells": [
  {
   "cell_type": "markdown",
   "id": "e568bf66",
   "metadata": {},
   "source": [
    "# My Jupyter Notebook on IBM Watson Studio"
   ]
  },
  {
   "cell_type": "markdown",
   "id": "5643b20e",
   "metadata": {},
   "source": [
    "Ishitva Agarwal  \n",
    "I am a 2nd year BBA student."
   ]
  },
  {
   "cell_type": "markdown",
   "id": "90cff9ac",
   "metadata": {},
   "source": [
    "*I want to do a startup in the domain of data science.*"
   ]
  },
  {
   "cell_type": "markdown",
   "id": "c20fd5f7",
   "metadata": {},
   "source": [
    "### Here i will show you the value of \"a+b\""
   ]
  },
  {
   "cell_type": "code",
   "execution_count": 19,
   "id": "cae798a8",
   "metadata": {},
   "outputs": [
    {
     "name": "stdout",
     "output_type": "stream",
     "text": [
      "30\n"
     ]
    }
   ],
   "source": [
    "a=10\n",
    "b=20\n",
    "print (a+b)"
   ]
  },
  {
   "cell_type": "markdown",
   "id": "b1169d2d",
   "metadata": {},
   "source": [
    "*faith before fear*\n",
    "***\n",
    "\n",
    "this is horizontal line\n",
    "\n",
    "***\n",
    "\n",
    "* one\n",
    "* two \n",
    "* three\n",
    "\n"
   ]
  }
 ],
 "metadata": {
  "kernelspec": {
   "display_name": "Python 3 (ipykernel)",
   "language": "python",
   "name": "python3"
  },
  "language_info": {
   "codemirror_mode": {
    "name": "ipython",
    "version": 3
   },
   "file_extension": ".py",
   "mimetype": "text/x-python",
   "name": "python",
   "nbconvert_exporter": "python",
   "pygments_lexer": "ipython3",
   "version": "3.9.12"
  }
 },
 "nbformat": 4,
 "nbformat_minor": 5
}
